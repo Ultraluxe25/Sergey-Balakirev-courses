{
 "cells": [
  {
   "cell_type": "markdown",
   "id": "4c211517",
   "metadata": {},
   "source": [
    "![](https://i.ytimg.com/vi/nV7cI5zgOpk/hqdefault.jpg?sqp=-oaymwEjCNACELwBSFryq4qpAxUIARUAAAAAGAElAADIQj0AgKJDeAE=&rs=AOn4CLBtw7SBvHiAApjEapNcjW3UGmd7tw)"
   ]
  },
  {
   "cell_type": "markdown",
   "id": "7b2765e0",
   "metadata": {},
   "source": [
    "В игро Го невозможно просчитать лучшие ходы, но нейронная сеть (AlphaGo VS Ли Седоль) смогла обыграть чемпиона по Го (9 дан) со счетом 4:1"
   ]
  },
  {
   "cell_type": "markdown",
   "id": "f35127f8",
   "metadata": {},
   "source": [
    "Искусственный интеллект родился в 1943 году с появлением кибернетики"
   ]
  },
  {
   "cell_type": "markdown",
   "id": "17750760",
   "metadata": {},
   "source": [
    "Была попытка сыметировать работу человеческого мозга. К каждому нейрону подходят тысячи отростков. **Аксон** – отросток передающий, через него импульс идет от тела клетки к другому нейрону. **Дендриты** – отростки принимающие, они собирают импульсы от других нейронов и передают телу"
   ]
  },
  {
   "cell_type": "markdown",
   "id": "a86f2c2c",
   "metadata": {},
   "source": [
    "**Графы знаний** - это современное название экспертных систем"
   ]
  },
  {
   "cell_type": "markdown",
   "id": "a788f592",
   "metadata": {},
   "source": [
    "Количество транзисторов всё ещё продолжает расти, но скоро процессоры станут настолько крошечными, что транзисторам просто не останется места"
   ]
  },
  {
   "cell_type": "markdown",
   "id": "56a149be",
   "metadata": {},
   "source": [
    "<span style=\"color: purple\">**Глубокое обучение**</span> появилось в 2010 году, когда произошла револющия в искусственном интеллекте. Сотни слоев нейроннов! Этому способствовали **графические процессоры видеокарт** в параллельных вычислениях"
   ]
  },
  {
   "cell_type": "markdown",
   "id": "753b41d6",
   "metadata": {},
   "source": [
    "<span style=\"color: red\">**Сверточные нейронные сети**</span> используются в **компьютерном зрении** для распознования объектов и генерация речи человека по звуковой дорожки его голоса, стилизация изображения"
   ]
  },
  {
   "cell_type": "markdown",
   "id": "070acc17",
   "metadata": {},
   "source": [
    "Архитектура <span style=\"color: green\">**рекуррентных нейронных сетей**</span> используется для автоматического перевода текста, для создания чат-ботов и генерации текстов (ChatGPT)"
   ]
  },
  {
   "cell_type": "markdown",
   "id": "6e667f3f",
   "metadata": {},
   "source": [
    "**Глубокое обучение с подкреплением** \"воспитывает\" нейронную сеть, вознаграждая ещё и наказывая. Используется в играх и беспилотных автомобилях"
   ]
  },
  {
   "cell_type": "markdown",
   "id": "7c0d0c46",
   "metadata": {},
   "source": [
    "В отличии от ИИ мы способны чувствовать"
   ]
  }
 ],
 "metadata": {
  "kernelspec": {
   "display_name": "Python 3 (ipykernel)",
   "language": "python",
   "name": "python3"
  },
  "language_info": {
   "codemirror_mode": {
    "name": "ipython",
    "version": 3
   },
   "file_extension": ".py",
   "mimetype": "text/x-python",
   "name": "python",
   "nbconvert_exporter": "python",
   "pygments_lexer": "ipython3",
   "version": "3.9.13"
  }
 },
 "nbformat": 4,
 "nbformat_minor": 5
}
